{
 "cells": [
  {
   "metadata": {},
   "cell_type": "markdown",
   "source": "SUPERVISED REGRESSION\n",
   "id": "e081f4991409e315"
  },
  {
   "metadata": {
    "ExecuteTime": {
     "end_time": "2025-05-25T11:04:36.731413Z",
     "start_time": "2025-05-25T11:04:31.827981Z"
    }
   },
   "cell_type": "code",
   "source": [
    "import pandas as pd\n",
    "import numpy as np\n",
    "from sklearn.model_selection import train_test_split\n",
    "from sklearn.metrics import mean_absolute_error\n",
    "from sklearn.tree import DecisionTreeRegressor\n",
    "from sklearn.linear_model import Ridge, Lasso\n",
    "from xgboost import XGBRegressor\n",
    "from sklearn.ensemble import RandomForestRegressor, GradientBoostingRegressor\n",
    "import zipfile\n",
    "from sklearn.linear_model import LinearRegression\n",
    "from sklearn.svm import SVR"
   ],
   "id": "initial_id",
   "outputs": [],
   "execution_count": 1
  },
  {
   "metadata": {
    "ExecuteTime": {
     "end_time": "2025-05-25T11:04:37.771768Z",
     "start_time": "2025-05-25T11:04:37.538559Z"
    }
   },
   "cell_type": "code",
   "source": [
    "# Load data\n",
    "with zipfile.ZipFile('production-quality.zip', 'r') as zip_ref:\n",
    "    zip_ref.extractall('production-quality')"
   ],
   "id": "37b54d862bfb094d",
   "outputs": [],
   "execution_count": 2
  },
  {
   "metadata": {
    "ExecuteTime": {
     "end_time": "2025-05-25T11:04:40.072338Z",
     "start_time": "2025-05-25T11:04:38.591367Z"
    }
   },
   "cell_type": "code",
   "source": [
    "# Read data\n",
    "X_init = pd.read_csv(\"production-quality/data_X.csv\")\n",
    "submission = pd.read_csv(\"production-quality/sample_submission.csv\")\n",
    "Y_init = pd.read_csv(\"production-quality/data_Y.csv\")"
   ],
   "id": "370eea8946d205b8",
   "outputs": [],
   "execution_count": 3
  },
  {
   "metadata": {
    "ExecuteTime": {
     "end_time": "2025-05-25T11:04:41.230457Z",
     "start_time": "2025-05-25T11:04:40.919262Z"
    }
   },
   "cell_type": "code",
   "source": [
    "# Convert to date_time format\n",
    "X_init['date_time']=pd.to_datetime(X_init['date_time'])\n",
    "Y_init['date_time']=pd.to_datetime(Y_init['date_time'])\n",
    "submission['date_time']=pd.to_datetime(submission['date_time'])"
   ],
   "id": "d4299342d78d1a7e",
   "outputs": [],
   "execution_count": 4
  },
  {
   "metadata": {
    "ExecuteTime": {
     "end_time": "2025-05-25T11:04:47.036133Z",
     "start_time": "2025-05-25T11:04:42.089195Z"
    }
   },
   "cell_type": "code",
   "source": [
    "# extracting only the date and hour\n",
    "X_init['date_hour']=X_init['date_time'].dt.strftime('%Y-%m-%d %H')\n",
    "X_init=X_init.drop(columns=['date_time'])"
   ],
   "id": "a094952824dc71e7",
   "outputs": [],
   "execution_count": 5
  },
  {
   "metadata": {
    "ExecuteTime": {
     "end_time": "2025-05-25T11:04:52.934113Z",
     "start_time": "2025-05-25T11:04:47.037251Z"
    }
   },
   "cell_type": "code",
   "source": [
    "# Grouping the data by date_hour and AH_data and aggregating it into lists\n",
    "X_aggregated = X_init.groupby(['date_hour', 'AH_data']).agg(lambda x: list(x)).reset_index()\n",
    "X_aggregated.head()"
   ],
   "id": "d5db58de037d451e",
   "outputs": [
    {
     "data": {
      "text/plain": [
       "       date_hour  AH_data                                         T_data_1_1  \\\n",
       "0  2015-01-01 00     9.22  [212, 212, 212, 213, 213, 213, 213, 213, 213, ...   \n",
       "1  2015-01-01 01     7.82  [210, 210, 210, 210, 209, 209, 209, 209, 209, ...   \n",
       "2  2015-01-01 02     6.03  [213, 214, 214, 214, 215, 215, 215, 216, 216, ...   \n",
       "3  2015-01-01 03     8.36  [248, 248, 247, 246, 245, 244, 243, 242, 241, ...   \n",
       "4  2015-01-01 04     7.02  [232, 232, 232, 233, 233, 233, 234, 234, 234, ...   \n",
       "\n",
       "                                          T_data_1_2  \\\n",
       "0  [210, 211, 211, 211, 211, 211, 212, 212, 212, ...   \n",
       "1  [213, 213, 212, 212, 212, 212, 212, 212, 211, ...   \n",
       "2  [193, 192, 192, 191, 191, 190, 190, 189, 189, ...   \n",
       "3  [207, 208, 210, 211, 212, 213, 215, 216, 217, ...   \n",
       "4  [229, 229, 230, 230, 231, 231, 232, 232, 233, ...   \n",
       "\n",
       "                                          T_data_1_3  \\\n",
       "0  [211, 211, 211, 211, 211, 211, 211, 211, 211, ...   \n",
       "1  [212, 212, 212, 212, 212, 212, 212, 212, 212, ...   \n",
       "2  [212, 212, 211, 211, 211, 211, 211, 211, 211, ...   \n",
       "3  [212, 212, 212, 212, 212, 213, 213, 213, 214, ...   \n",
       "4  [239, 239, 240, 241, 241, 242, 242, 243, 243, ...   \n",
       "\n",
       "                                          T_data_2_1  \\\n",
       "0  [347, 346, 345, 344, 343, 342, 341, 340, 339, ...   \n",
       "1  [299, 299, 298, 298, 297, 297, 296, 296, 296, ...   \n",
       "2  [285, 285, 285, 285, 285, 285, 285, 285, 285, ...   \n",
       "3  [303, 304, 304, 305, 306, 306, 307, 308, 308, ...   \n",
       "4  [355, 356, 357, 358, 358, 359, 360, 360, 360, ...   \n",
       "\n",
       "                                          T_data_2_2  \\\n",
       "0  [353, 352, 352, 351, 350, 350, 349, 348, 347, ...   \n",
       "1  [300, 299, 298, 297, 296, 295, 293, 292, 291, ...   \n",
       "2  [262, 263, 264, 265, 266, 268, 269, 270, 272, ...   \n",
       "3  [271, 263, 256, 248, 241, 234, 227, 221, 214, ...   \n",
       "4  [152, 156, 160, 165, 169, 174, 178, 182, 186, ...   \n",
       "\n",
       "                                          T_data_2_3  \\\n",
       "0  [347, 346, 346, 346, 346, 346, 346, 345, 345, ...   \n",
       "1  [346, 346, 346, 347, 347, 347, 347, 347, 348, ...   \n",
       "2  [363, 362, 362, 362, 361, 361, 361, 360, 359, ...   \n",
       "3  [331, 331, 332, 333, 333, 334, 335, 335, 336, ...   \n",
       "4  [349, 349, 349, 349, 349, 348, 348, 348, 348, ...   \n",
       "\n",
       "                                          T_data_3_1  \\\n",
       "0  [474, 475, 476, 477, 478, 479, 480, 482, 483, ...   \n",
       "1  [523, 523, 524, 524, 524, 525, 525, 526, 526, ...   \n",
       "2  [527, 527, 526, 526, 526, 525, 525, 524, 524, ...   \n",
       "3  [486, 485, 484, 483, 482, 480, 479, 478, 477, ...   \n",
       "4  [433, 433, 432, 432, 431, 431, 430, 430, 429, ...   \n",
       "\n",
       "                                          T_data_3_2  \\\n",
       "0  [473, 473, 473, 473, 473, 473, 473, 473, 473, ...   \n",
       "1  [473, 473, 473, 473, 473, 473, 473, 473, 474, ...   \n",
       "2  [481, 481, 482, 482, 482, 483, 483, 484, 484, ...   \n",
       "3  [488, 488, 488, 487, 486, 486, 485, 485, 484, ...   \n",
       "4  [467, 468, 468, 468, 469, 469, 470, 470, 471, ...   \n",
       "\n",
       "                                          T_data_3_3  \\\n",
       "0  [481, 481, 481, 481, 482, 482, 482, 482, 482, ...   \n",
       "1  [490, 490, 490, 490, 490, 491, 491, 491, 491, ...   \n",
       "2  [490, 490, 490, 490, 490, 490, 490, 490, 490, ...   \n",
       "3  [482, 482, 482, 482, 482, 482, 482, 482, 482, ...   \n",
       "4  [481, 482, 482, 482, 482, 482, 482, 482, 482, ...   \n",
       "\n",
       "                                          T_data_4_1  \\\n",
       "0  [346, 349, 352, 355, 358, 360, 363, 365, 367, ...   \n",
       "1  [330, 329, 328, 327, 326, 326, 325, 325, 325, ...   \n",
       "2  [366, 366, 366, 366, 366, 366, 366, 366, 366, ...   \n",
       "3  [347, 347, 346, 346, 345, 345, 344, 344, 344, ...   \n",
       "4  [333, 333, 333, 333, 333, 333, 333, 333, 333, ...   \n",
       "\n",
       "                                          T_data_4_2  \\\n",
       "0  [348, 348, 349, 349, 349, 349, 350, 350, 350, ...   \n",
       "1  [356, 357, 357, 357, 357, 357, 357, 357, 357, ...   \n",
       "2  [351, 350, 350, 350, 350, 349, 349, 349, 349, ...   \n",
       "3  [344, 345, 345, 345, 345, 345, 346, 346, 346, ...   \n",
       "4  [361, 361, 361, 361, 361, 361, 361, 361, 361, ...   \n",
       "\n",
       "                                          T_data_4_3  \\\n",
       "0  [355, 355, 355, 355, 355, 354, 354, 354, 354, ...   \n",
       "1  [346, 346, 345, 345, 345, 345, 345, 345, 345, ...   \n",
       "2  [342, 342, 342, 342, 342, 342, 342, 343, 343, ...   \n",
       "3  [346, 346, 346, 346, 346, 346, 346, 347, 347, ...   \n",
       "4  [354, 354, 354, 355, 355, 355, 355, 355, 355, ...   \n",
       "\n",
       "                                          T_data_5_1  \\\n",
       "0  [241, 241, 242, 242, 243, 243, 244, 244, 244, ...   \n",
       "1  [244, 243, 243, 243, 242, 242, 241, 241, 240, ...   \n",
       "2  [239, 239, 239, 239, 239, 239, 239, 239, 239, ...   \n",
       "3  [235, 235, 235, 235, 235, 235, 235, 235, 235, ...   \n",
       "4  [239, 239, 239, 239, 239, 240, 240, 240, 240, ...   \n",
       "\n",
       "                                          T_data_5_2  \\\n",
       "0  [241, 241, 241, 241, 241, 241, 241, 241, 241, ...   \n",
       "1  [240, 240, 240, 240, 240, 240, 240, 240, 240, ...   \n",
       "2  [237, 237, 236, 236, 236, 235, 235, 234, 234, ...   \n",
       "3  [235, 235, 236, 236, 236, 236, 237, 237, 237, ...   \n",
       "4  [241, 241, 241, 241, 241, 240, 240, 240, 240, ...   \n",
       "\n",
       "                                          T_data_5_3  \\\n",
       "0  [243, 243, 242, 242, 242, 242, 242, 242, 242, ...   \n",
       "1  [238, 238, 238, 238, 238, 238, 238, 238, 238, ...   \n",
       "2  [239, 239, 239, 239, 239, 239, 239, 239, 239, ...   \n",
       "3  [238, 237, 237, 237, 237, 237, 237, 237, 237, ...   \n",
       "4  [238, 238, 238, 238, 238, 238, 238, 238, 239, ...   \n",
       "\n",
       "                                              H_data  \n",
       "0  [167.85, 162.51, 164.99, 167.34, 163.04, 163.8...  \n",
       "1  [160.3, 164.12, 168.02, 166.28, 162.73, 165.65...  \n",
       "2  [166.75, 167.87, 166.66, 164.4, 165.5, 161.84,...  \n",
       "3  [163.84, 164.69, 166.28, 165.3, 166.4, 166.26,...  \n",
       "4  [167.32, 162.36, 164.32, 164.3, 165.88, 164.85...  "
      ],
      "text/html": [
       "<div>\n",
       "<style scoped>\n",
       "    .dataframe tbody tr th:only-of-type {\n",
       "        vertical-align: middle;\n",
       "    }\n",
       "\n",
       "    .dataframe tbody tr th {\n",
       "        vertical-align: top;\n",
       "    }\n",
       "\n",
       "    .dataframe thead th {\n",
       "        text-align: right;\n",
       "    }\n",
       "</style>\n",
       "<table border=\"1\" class=\"dataframe\">\n",
       "  <thead>\n",
       "    <tr style=\"text-align: right;\">\n",
       "      <th></th>\n",
       "      <th>date_hour</th>\n",
       "      <th>AH_data</th>\n",
       "      <th>T_data_1_1</th>\n",
       "      <th>T_data_1_2</th>\n",
       "      <th>T_data_1_3</th>\n",
       "      <th>T_data_2_1</th>\n",
       "      <th>T_data_2_2</th>\n",
       "      <th>T_data_2_3</th>\n",
       "      <th>T_data_3_1</th>\n",
       "      <th>T_data_3_2</th>\n",
       "      <th>T_data_3_3</th>\n",
       "      <th>T_data_4_1</th>\n",
       "      <th>T_data_4_2</th>\n",
       "      <th>T_data_4_3</th>\n",
       "      <th>T_data_5_1</th>\n",
       "      <th>T_data_5_2</th>\n",
       "      <th>T_data_5_3</th>\n",
       "      <th>H_data</th>\n",
       "    </tr>\n",
       "  </thead>\n",
       "  <tbody>\n",
       "    <tr>\n",
       "      <th>0</th>\n",
       "      <td>2015-01-01 00</td>\n",
       "      <td>9.22</td>\n",
       "      <td>[212, 212, 212, 213, 213, 213, 213, 213, 213, ...</td>\n",
       "      <td>[210, 211, 211, 211, 211, 211, 212, 212, 212, ...</td>\n",
       "      <td>[211, 211, 211, 211, 211, 211, 211, 211, 211, ...</td>\n",
       "      <td>[347, 346, 345, 344, 343, 342, 341, 340, 339, ...</td>\n",
       "      <td>[353, 352, 352, 351, 350, 350, 349, 348, 347, ...</td>\n",
       "      <td>[347, 346, 346, 346, 346, 346, 346, 345, 345, ...</td>\n",
       "      <td>[474, 475, 476, 477, 478, 479, 480, 482, 483, ...</td>\n",
       "      <td>[473, 473, 473, 473, 473, 473, 473, 473, 473, ...</td>\n",
       "      <td>[481, 481, 481, 481, 482, 482, 482, 482, 482, ...</td>\n",
       "      <td>[346, 349, 352, 355, 358, 360, 363, 365, 367, ...</td>\n",
       "      <td>[348, 348, 349, 349, 349, 349, 350, 350, 350, ...</td>\n",
       "      <td>[355, 355, 355, 355, 355, 354, 354, 354, 354, ...</td>\n",
       "      <td>[241, 241, 242, 242, 243, 243, 244, 244, 244, ...</td>\n",
       "      <td>[241, 241, 241, 241, 241, 241, 241, 241, 241, ...</td>\n",
       "      <td>[243, 243, 242, 242, 242, 242, 242, 242, 242, ...</td>\n",
       "      <td>[167.85, 162.51, 164.99, 167.34, 163.04, 163.8...</td>\n",
       "    </tr>\n",
       "    <tr>\n",
       "      <th>1</th>\n",
       "      <td>2015-01-01 01</td>\n",
       "      <td>7.82</td>\n",
       "      <td>[210, 210, 210, 210, 209, 209, 209, 209, 209, ...</td>\n",
       "      <td>[213, 213, 212, 212, 212, 212, 212, 212, 211, ...</td>\n",
       "      <td>[212, 212, 212, 212, 212, 212, 212, 212, 212, ...</td>\n",
       "      <td>[299, 299, 298, 298, 297, 297, 296, 296, 296, ...</td>\n",
       "      <td>[300, 299, 298, 297, 296, 295, 293, 292, 291, ...</td>\n",
       "      <td>[346, 346, 346, 347, 347, 347, 347, 347, 348, ...</td>\n",
       "      <td>[523, 523, 524, 524, 524, 525, 525, 526, 526, ...</td>\n",
       "      <td>[473, 473, 473, 473, 473, 473, 473, 473, 474, ...</td>\n",
       "      <td>[490, 490, 490, 490, 490, 491, 491, 491, 491, ...</td>\n",
       "      <td>[330, 329, 328, 327, 326, 326, 325, 325, 325, ...</td>\n",
       "      <td>[356, 357, 357, 357, 357, 357, 357, 357, 357, ...</td>\n",
       "      <td>[346, 346, 345, 345, 345, 345, 345, 345, 345, ...</td>\n",
       "      <td>[244, 243, 243, 243, 242, 242, 241, 241, 240, ...</td>\n",
       "      <td>[240, 240, 240, 240, 240, 240, 240, 240, 240, ...</td>\n",
       "      <td>[238, 238, 238, 238, 238, 238, 238, 238, 238, ...</td>\n",
       "      <td>[160.3, 164.12, 168.02, 166.28, 162.73, 165.65...</td>\n",
       "    </tr>\n",
       "    <tr>\n",
       "      <th>2</th>\n",
       "      <td>2015-01-01 02</td>\n",
       "      <td>6.03</td>\n",
       "      <td>[213, 214, 214, 214, 215, 215, 215, 216, 216, ...</td>\n",
       "      <td>[193, 192, 192, 191, 191, 190, 190, 189, 189, ...</td>\n",
       "      <td>[212, 212, 211, 211, 211, 211, 211, 211, 211, ...</td>\n",
       "      <td>[285, 285, 285, 285, 285, 285, 285, 285, 285, ...</td>\n",
       "      <td>[262, 263, 264, 265, 266, 268, 269, 270, 272, ...</td>\n",
       "      <td>[363, 362, 362, 362, 361, 361, 361, 360, 359, ...</td>\n",
       "      <td>[527, 527, 526, 526, 526, 525, 525, 524, 524, ...</td>\n",
       "      <td>[481, 481, 482, 482, 482, 483, 483, 484, 484, ...</td>\n",
       "      <td>[490, 490, 490, 490, 490, 490, 490, 490, 490, ...</td>\n",
       "      <td>[366, 366, 366, 366, 366, 366, 366, 366, 366, ...</td>\n",
       "      <td>[351, 350, 350, 350, 350, 349, 349, 349, 349, ...</td>\n",
       "      <td>[342, 342, 342, 342, 342, 342, 342, 343, 343, ...</td>\n",
       "      <td>[239, 239, 239, 239, 239, 239, 239, 239, 239, ...</td>\n",
       "      <td>[237, 237, 236, 236, 236, 235, 235, 234, 234, ...</td>\n",
       "      <td>[239, 239, 239, 239, 239, 239, 239, 239, 239, ...</td>\n",
       "      <td>[166.75, 167.87, 166.66, 164.4, 165.5, 161.84,...</td>\n",
       "    </tr>\n",
       "    <tr>\n",
       "      <th>3</th>\n",
       "      <td>2015-01-01 03</td>\n",
       "      <td>8.36</td>\n",
       "      <td>[248, 248, 247, 246, 245, 244, 243, 242, 241, ...</td>\n",
       "      <td>[207, 208, 210, 211, 212, 213, 215, 216, 217, ...</td>\n",
       "      <td>[212, 212, 212, 212, 212, 213, 213, 213, 214, ...</td>\n",
       "      <td>[303, 304, 304, 305, 306, 306, 307, 308, 308, ...</td>\n",
       "      <td>[271, 263, 256, 248, 241, 234, 227, 221, 214, ...</td>\n",
       "      <td>[331, 331, 332, 333, 333, 334, 335, 335, 336, ...</td>\n",
       "      <td>[486, 485, 484, 483, 482, 480, 479, 478, 477, ...</td>\n",
       "      <td>[488, 488, 488, 487, 486, 486, 485, 485, 484, ...</td>\n",
       "      <td>[482, 482, 482, 482, 482, 482, 482, 482, 482, ...</td>\n",
       "      <td>[347, 347, 346, 346, 345, 345, 344, 344, 344, ...</td>\n",
       "      <td>[344, 345, 345, 345, 345, 345, 346, 346, 346, ...</td>\n",
       "      <td>[346, 346, 346, 346, 346, 346, 346, 347, 347, ...</td>\n",
       "      <td>[235, 235, 235, 235, 235, 235, 235, 235, 235, ...</td>\n",
       "      <td>[235, 235, 236, 236, 236, 236, 237, 237, 237, ...</td>\n",
       "      <td>[238, 237, 237, 237, 237, 237, 237, 237, 237, ...</td>\n",
       "      <td>[163.84, 164.69, 166.28, 165.3, 166.4, 166.26,...</td>\n",
       "    </tr>\n",
       "    <tr>\n",
       "      <th>4</th>\n",
       "      <td>2015-01-01 04</td>\n",
       "      <td>7.02</td>\n",
       "      <td>[232, 232, 232, 233, 233, 233, 234, 234, 234, ...</td>\n",
       "      <td>[229, 229, 230, 230, 231, 231, 232, 232, 233, ...</td>\n",
       "      <td>[239, 239, 240, 241, 241, 242, 242, 243, 243, ...</td>\n",
       "      <td>[355, 356, 357, 358, 358, 359, 360, 360, 360, ...</td>\n",
       "      <td>[152, 156, 160, 165, 169, 174, 178, 182, 186, ...</td>\n",
       "      <td>[349, 349, 349, 349, 349, 348, 348, 348, 348, ...</td>\n",
       "      <td>[433, 433, 432, 432, 431, 431, 430, 430, 429, ...</td>\n",
       "      <td>[467, 468, 468, 468, 469, 469, 470, 470, 471, ...</td>\n",
       "      <td>[481, 482, 482, 482, 482, 482, 482, 482, 482, ...</td>\n",
       "      <td>[333, 333, 333, 333, 333, 333, 333, 333, 333, ...</td>\n",
       "      <td>[361, 361, 361, 361, 361, 361, 361, 361, 361, ...</td>\n",
       "      <td>[354, 354, 354, 355, 355, 355, 355, 355, 355, ...</td>\n",
       "      <td>[239, 239, 239, 239, 239, 240, 240, 240, 240, ...</td>\n",
       "      <td>[241, 241, 241, 241, 241, 240, 240, 240, 240, ...</td>\n",
       "      <td>[238, 238, 238, 238, 238, 238, 238, 238, 239, ...</td>\n",
       "      <td>[167.32, 162.36, 164.32, 164.3, 165.88, 164.85...</td>\n",
       "    </tr>\n",
       "  </tbody>\n",
       "</table>\n",
       "</div>"
      ]
     },
     "execution_count": 6,
     "metadata": {},
     "output_type": "execute_result"
    }
   ],
   "execution_count": 6
  },
  {
   "metadata": {
    "ExecuteTime": {
     "end_time": "2025-05-25T11:05:27.442244Z",
     "start_time": "2025-05-25T11:04:52.938501Z"
    }
   },
   "cell_type": "code",
   "source": [
    "# Expands the columns that has lists into seperate columns\n",
    "for col in X_aggregated.columns:\n",
    "    if X_aggregated[col].apply(lambda x: isinstance(x, list)).any():\n",
    "        # Expanding only the rows with lists into separate columns\n",
    "        expanded_cols = X_aggregated[col].apply(lambda x: x if isinstance(x, list) else [x]).apply(pd.Series)\n",
    "        # Each new column is named with a suffix indicating position in the list\n",
    "        expanded_cols.columns = [f\"{col}_{i+1}\" for i in range(expanded_cols.shape[1])]\n",
    "        # Concatenate expanded columns with the original DataFrame\n",
    "        X_aggregated = pd.concat([X_aggregated.drop(columns=[col]), expanded_cols], axis=1)\n",
    "X_aggregated.info()"
   ],
   "id": "11222f6b64e6ad4b",
   "outputs": [
    {
     "name": "stdout",
     "output_type": "stream",
     "text": [
      "<class 'pandas.core.frame.DataFrame'>\n",
      "RangeIndex: 35065 entries, 0 to 35064\n",
      "Columns: 962 entries, date_hour to H_data_60\n",
      "dtypes: float64(961), object(1)\n",
      "memory usage: 257.4+ MB\n"
     ]
    }
   ],
   "execution_count": 7
  },
  {
   "metadata": {
    "ExecuteTime": {
     "end_time": "2025-05-25T11:05:27.593077Z",
     "start_time": "2025-05-25T11:05:27.444160Z"
    }
   },
   "cell_type": "code",
   "source": [
    "# Subtract 1 hour ( Y has produced the quality result of the work done in previous hour, so we shift Y to match the values of that hour)\n",
    "Y_init['date_time'] = Y_init['date_time'] - pd.Timedelta(hours=1)\n",
    "# Converting into date hour format\n",
    "Y_init['date_hour'] = Y_init['date_time'].dt.strftime('%Y-%m-%d %H')\n",
    "Y_init = Y_init.drop(columns=['date_time'])\n",
    "submission['date_hour'] = submission['date_time'].dt.strftime('%Y-%m-%d %H')\n",
    "submission_file = submission.drop(columns=['date_time'])\n",
    "Y_init.info()"
   ],
   "id": "c7a75fee6e9b8dbb",
   "outputs": [
    {
     "name": "stdout",
     "output_type": "stream",
     "text": [
      "<class 'pandas.core.frame.DataFrame'>\n",
      "RangeIndex: 29184 entries, 0 to 29183\n",
      "Data columns (total 2 columns):\n",
      " #   Column     Non-Null Count  Dtype \n",
      "---  ------     --------------  ----- \n",
      " 0   quality    29184 non-null  int64 \n",
      " 1   date_hour  29184 non-null  object\n",
      "dtypes: int64(1), object(1)\n",
      "memory usage: 456.1+ KB\n"
     ]
    }
   ],
   "execution_count": 8
  },
  {
   "metadata": {
    "ExecuteTime": {
     "end_time": "2025-05-25T11:05:27.995636Z",
     "start_time": "2025-05-25T11:05:27.594971Z"
    }
   },
   "cell_type": "code",
   "source": [
    "# Merge X and Y - Inner \n",
    "data = pd.merge(X_aggregated, Y_init, on='date_hour', how='inner')\n",
    "data['date_hour'] = pd.to_datetime(data['date_hour'], format='%Y-%m-%d %H')\n",
    "data['year'] = data['date_hour'].dt.year\n",
    "data['month'] = data['date_hour'].dt.month\n",
    "data['day'] = data['date_hour'].dt.day\n",
    "data['hour'] = data['date_hour'].dt.hour\n",
    "data = data.drop(columns=['date_hour'])\n",
    "\n",
    "# Merge X and submission file\n",
    "validation = pd.merge(X_aggregated, submission[[\"date_hour\",\"quality\"]], left_on=\"date_hour\", right_on=\"date_hour\", how='inner')\n",
    "validation['date_hour'] = pd.to_datetime(validation['date_hour'], format='%Y-%m-%d %H')\n",
    "validation['year'] = validation['date_hour'].dt.year\n",
    "validation['month'] = validation['date_hour'].dt.month\n",
    "validation['day'] = validation['date_hour'].dt.day\n",
    "validation['hour'] = validation['date_hour'].dt.hour\n",
    "validation = validation.drop(columns=['date_hour'])"
   ],
   "id": "9815fc7819066819",
   "outputs": [],
   "execution_count": 9
  },
  {
   "metadata": {},
   "cell_type": "markdown",
   "source": "PCA - To reduce the high dimensional dataset",
   "id": "2e8d929ffb83868f"
  },
  {
   "metadata": {
    "ExecuteTime": {
     "end_time": "2025-05-25T11:05:28.805271Z",
     "start_time": "2025-05-25T11:05:27.996506Z"
    }
   },
   "cell_type": "code",
   "source": [
    "# There are 962 columns after grouping and expanding the columns, Thus, we use PCA to reduce the dimension of the features to improve computational efficiency\n",
    "from sklearn.decomposition import PCA\n",
    "from sklearn.preprocessing import StandardScaler\n",
    "\n",
    "X=data.drop(columns=['quality'])\n",
    "y=data['quality']\n",
    "scaler = StandardScaler()\n",
    "X_scaled = scaler.fit_transform(X)\n",
    "pca = PCA(n_components=0.95)\n",
    "X_pca = pca.fit_transform(X_scaled)"
   ],
   "id": "66f2d79c292614e9",
   "outputs": [],
   "execution_count": 10
  },
  {
   "metadata": {},
   "cell_type": "markdown",
   "source": "MODEL TRAINING",
   "id": "461cf28d95fed99"
  },
  {
   "metadata": {
    "ExecuteTime": {
     "end_time": "2025-05-25T11:05:29.099309Z",
     "start_time": "2025-05-25T11:05:28.807470Z"
    }
   },
   "cell_type": "code",
   "source": [
    "X=data.drop(columns=['quality'])\n",
    "y=data['quality']\n",
    "X_train, X_test, y_train, y_test = train_test_split(X_scaled, y, test_size=0.2, random_state=0)\n",
    "models = {\n",
    "    'linear': LinearRegression(),\n",
    "    'Ridge': Ridge(),\n",
    "    'Lasso': Lasso(),\n",
    "    'RandomForest': RandomForestRegressor(n_estimators=200, random_state=42),\n",
    "    'GradientBoosting': GradientBoostingRegressor(n_estimators=200, random_state=42),\n",
    "    'Support Vector Machine (SVM)': SVR(),\n",
    "    'Decision Tree': DecisionTreeRegressor(random_state=42),\n",
    "    'XGBoost': XGBRegressor(n_estimators=200, random_state=42)\n",
    "}"
   ],
   "id": "4c488890f5285b0d",
   "outputs": [],
   "execution_count": 11
  },
  {
   "metadata": {
    "ExecuteTime": {
     "end_time": "2025-05-25T11:44:07.824593Z",
     "start_time": "2025-05-25T11:05:58.973822Z"
    }
   },
   "cell_type": "code",
   "source": [
    "model_scores={}\n",
    "print(\"Model Performance Comparison (Mean Absolute Error):\")\n",
    "for model_name, model in models.items():\n",
    "    model.fit(X_train, y_train)\n",
    "    y_pred = model.predict(X_test)\n",
    "    score = mean_absolute_error(y_test, y_pred)\n",
    "    mape = np.mean(np.abs((y_test - y_pred) / y_test)) * 100\n",
    "    model_scores[model_name] = score\n",
    "    print(f\"{model_name} MAE : {score} MAPE : {mape}\")\n",
    "    \n",
    "    \n",
    "best_model_name = min(model_scores, key=model_scores.get)\n",
    "best_model = models[best_model_name]\n",
    "print(f\"\\nBest Model: {best_model_name}\\n \")"
   ],
   "id": "c48a62584d604b47",
   "outputs": [
    {
     "name": "stdout",
     "output_type": "stream",
     "text": [
      "Model Performance Comparison (Mean Absolute Error):\n",
      "linear MAE : 13.113019374303367 MAPE : 3.430806933982304\n",
      "Ridge MAE : 12.87013473832554 MAPE : 3.3720772609647813\n",
      "Lasso MAE : 13.36495517424279 MAPE : 3.5212465649862286\n",
      "RandomForest MAE : 7.6849777282850775 MAPE : 1.9981977315160566\n",
      "GradientBoosting MAE : 7.819580574061928 MAPE : 2.0225741167136357\n",
      "Support Vector Machine (SVM) MAE : 11.460324005714757 MAPE : 3.023652696854505\n",
      "Decision Tree MAE : 12.73239677916738 MAPE : 3.3019262033555554\n",
      "XGBoost MAE : 7.83484349161749 MAPE : 2.0277039591492008\n",
      "\n",
      "Best Model: RandomForest\n",
      " \n"
     ]
    }
   ],
   "execution_count": 12
  },
  {
   "metadata": {
    "ExecuteTime": {
     "end_time": "2025-05-25T11:57:36.153218Z",
     "start_time": "2025-05-25T11:57:35.572498Z"
    }
   },
   "cell_type": "code",
   "source": [
    "# We found the best model as XGBoost with MAE = 7 after training, Thus we use it to generate results for our submission file.\n",
    "val = validation.drop(columns=['quality'])\n",
    "val_scaled = scaler.transform(val)\n",
    "val_pca = pca.transform(val_scaled)\n",
    "quality=best_model.predict(val_scaled)\n",
    "submission['quality']=quality"
   ],
   "id": "fd28fc7314c8df16",
   "outputs": [],
   "execution_count": 13
  },
  {
   "metadata": {
    "ExecuteTime": {
     "end_time": "2025-05-25T11:57:36.890185Z",
     "start_time": "2025-05-25T11:57:36.856739Z"
    }
   },
   "cell_type": "code",
   "source": "submission.to_csv('production-quality/sample_submission.csv', index=False)",
   "id": "352822a0863276b",
   "outputs": [],
   "execution_count": 14
  },
  {
   "metadata": {
    "ExecuteTime": {
     "end_time": "2025-05-25T11:57:37.527525Z",
     "start_time": "2025-05-25T11:57:37.519075Z"
    }
   },
   "cell_type": "code",
   "source": [
    "submission = submission[[\"date_time\",\"quality\"]]\n",
    "submission"
   ],
   "id": "e70322f043d57d8",
   "outputs": [
    {
     "data": {
      "text/plain": [
       "               date_time  quality\n",
       "0    2018-05-04 00:05:00  440.875\n",
       "1    2018-05-04 01:05:00  435.670\n",
       "2    2018-05-04 02:05:00  407.890\n",
       "3    2018-05-04 03:05:00  408.670\n",
       "4    2018-05-04 04:05:00  413.140\n",
       "...                  ...      ...\n",
       "5803 2018-12-31 19:05:00  472.105\n",
       "5804 2018-12-31 20:05:00  453.770\n",
       "5805 2018-12-31 21:05:00  443.870\n",
       "5806 2018-12-31 22:05:00  439.100\n",
       "5807 2018-12-31 23:05:00  436.200\n",
       "\n",
       "[5808 rows x 2 columns]"
      ],
      "text/html": [
       "<div>\n",
       "<style scoped>\n",
       "    .dataframe tbody tr th:only-of-type {\n",
       "        vertical-align: middle;\n",
       "    }\n",
       "\n",
       "    .dataframe tbody tr th {\n",
       "        vertical-align: top;\n",
       "    }\n",
       "\n",
       "    .dataframe thead th {\n",
       "        text-align: right;\n",
       "    }\n",
       "</style>\n",
       "<table border=\"1\" class=\"dataframe\">\n",
       "  <thead>\n",
       "    <tr style=\"text-align: right;\">\n",
       "      <th></th>\n",
       "      <th>date_time</th>\n",
       "      <th>quality</th>\n",
       "    </tr>\n",
       "  </thead>\n",
       "  <tbody>\n",
       "    <tr>\n",
       "      <th>0</th>\n",
       "      <td>2018-05-04 00:05:00</td>\n",
       "      <td>440.875</td>\n",
       "    </tr>\n",
       "    <tr>\n",
       "      <th>1</th>\n",
       "      <td>2018-05-04 01:05:00</td>\n",
       "      <td>435.670</td>\n",
       "    </tr>\n",
       "    <tr>\n",
       "      <th>2</th>\n",
       "      <td>2018-05-04 02:05:00</td>\n",
       "      <td>407.890</td>\n",
       "    </tr>\n",
       "    <tr>\n",
       "      <th>3</th>\n",
       "      <td>2018-05-04 03:05:00</td>\n",
       "      <td>408.670</td>\n",
       "    </tr>\n",
       "    <tr>\n",
       "      <th>4</th>\n",
       "      <td>2018-05-04 04:05:00</td>\n",
       "      <td>413.140</td>\n",
       "    </tr>\n",
       "    <tr>\n",
       "      <th>...</th>\n",
       "      <td>...</td>\n",
       "      <td>...</td>\n",
       "    </tr>\n",
       "    <tr>\n",
       "      <th>5803</th>\n",
       "      <td>2018-12-31 19:05:00</td>\n",
       "      <td>472.105</td>\n",
       "    </tr>\n",
       "    <tr>\n",
       "      <th>5804</th>\n",
       "      <td>2018-12-31 20:05:00</td>\n",
       "      <td>453.770</td>\n",
       "    </tr>\n",
       "    <tr>\n",
       "      <th>5805</th>\n",
       "      <td>2018-12-31 21:05:00</td>\n",
       "      <td>443.870</td>\n",
       "    </tr>\n",
       "    <tr>\n",
       "      <th>5806</th>\n",
       "      <td>2018-12-31 22:05:00</td>\n",
       "      <td>439.100</td>\n",
       "    </tr>\n",
       "    <tr>\n",
       "      <th>5807</th>\n",
       "      <td>2018-12-31 23:05:00</td>\n",
       "      <td>436.200</td>\n",
       "    </tr>\n",
       "  </tbody>\n",
       "</table>\n",
       "<p>5808 rows × 2 columns</p>\n",
       "</div>"
      ]
     },
     "execution_count": 15,
     "metadata": {},
     "output_type": "execute_result"
    }
   ],
   "execution_count": 15
  },
  {
   "metadata": {},
   "cell_type": "code",
   "outputs": [],
   "execution_count": null,
   "source": "",
   "id": "94d47bd04fad0dde"
  }
 ],
 "metadata": {
  "kernelspec": {
   "display_name": "Python 3",
   "language": "python",
   "name": "python3"
  },
  "language_info": {
   "codemirror_mode": {
    "name": "ipython",
    "version": 2
   },
   "file_extension": ".py",
   "mimetype": "text/x-python",
   "name": "python",
   "nbconvert_exporter": "python",
   "pygments_lexer": "ipython2",
   "version": "2.7.6"
  }
 },
 "nbformat": 4,
 "nbformat_minor": 5
}
